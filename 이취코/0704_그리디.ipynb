{
 "cells": [
  {
   "cell_type": "code",
   "execution_count": 3,
   "metadata": {},
   "outputs": [
    {
     "name": "stdout",
     "output_type": "stream",
     "text": [
      "4\n"
     ]
    }
   ],
   "source": [
    "# 예제 3-1 거스름돈\n",
    "n = 1110\n",
    "count = 0\n",
    "\n",
    "coins = [500, 100, 50, 10]\n",
    "\n",
    "for coin in coins:\n",
    "    count = count + (n//coin)\n",
    "    n = n % coin\n",
    "\n",
    "print(count)"
   ]
  },
  {
   "cell_type": "code",
   "execution_count": 7,
   "metadata": {},
   "outputs": [
    {
     "name": "stdout",
     "output_type": "stream",
     "text": [
      "46\n"
     ]
    }
   ],
   "source": [
    "# 실전 문제 큰 수의 법칙\n",
    "n, m, k = map(int, input().split())\n",
    "arr = list(map(int, input().split()))\n",
    "\n",
    "arr.sort(reverse=True)\n",
    "\n",
    "result = 0\n",
    "\n",
    "while True:\n",
    "    for i in range(k):\n",
    "        if m == 0:\n",
    "            break\n",
    "        result += arr[0]\n",
    "        m -= 1\n",
    "    if m == 0:\n",
    "        break\n",
    "    result += arr[1]\n",
    "    m -= 1\n",
    "\n",
    "print(result)\n"
   ]
  },
  {
   "cell_type": "code",
   "execution_count": 8,
   "metadata": {},
   "outputs": [
    {
     "name": "stdout",
     "output_type": "stream",
     "text": [
      "46\n"
     ]
    }
   ],
   "source": [
    "# 실전 문제 큰 수의 법칙 개선\n",
    "n, m, k = map(int, input().split())\n",
    "arr = list(map(int, input().split()))\n",
    "\n",
    "arr.sort(reverse=True)\n",
    "\n",
    "count = int(m/(k+1))*k + (m%(k+1))\n",
    "\n",
    "result = 0\n",
    "result += (count) * arr[0]\n",
    "result += (m-count) * arr[1]\n",
    "\n",
    "print(result)"
   ]
  },
  {
   "cell_type": "code",
   "execution_count": null,
   "metadata": {},
   "outputs": [],
   "source": [
    "# 실전 문제 숫자 카드 게임\n",
    "n, m = map(int, input().split())\n",
    "\n",
    "minVal = -1\n",
    "for i in range(n):\n",
    "    arr = list(map(int, input().split()))\n",
    "    arrMin = min(arr)\n",
    "    minVal = max(minVal, arrMin)\n",
    "\n",
    "print(minVal)"
   ]
  },
  {
   "cell_type": "code",
   "execution_count": 9,
   "metadata": {},
   "outputs": [
    {
     "name": "stdout",
     "output_type": "stream",
     "text": [
      "2\n"
     ]
    }
   ],
   "source": [
    "# 실전 문제 1이 될 때까지\n",
    "n, k = map(int, input().split())\n",
    "result = 0\n",
    "\n",
    "while n>=k:\n",
    "    while n%k != 0:\n",
    "        n -= 1\n",
    "        result += 1\n",
    "    n //= k\n",
    "    result += 1\n",
    "\n",
    "result += (n-1)\n",
    "\n",
    "print(result)"
   ]
  }
 ],
 "metadata": {
  "kernelspec": {
   "display_name": "Python 3",
   "language": "python",
   "name": "python3"
  },
  "language_info": {
   "codemirror_mode": {
    "name": "ipython",
    "version": 3
   },
   "file_extension": ".py",
   "mimetype": "text/x-python",
   "name": "python",
   "nbconvert_exporter": "python",
   "pygments_lexer": "ipython3",
   "version": "3.11.4"
  },
  "orig_nbformat": 4
 },
 "nbformat": 4,
 "nbformat_minor": 2
}
