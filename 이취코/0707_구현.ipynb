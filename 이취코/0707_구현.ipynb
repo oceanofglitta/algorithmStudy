{
 "cells": [
  {
   "cell_type": "code",
   "execution_count": 3,
   "metadata": {},
   "outputs": [
    {
     "name": "stdout",
     "output_type": "stream",
     "text": [
      "2\n"
     ]
    }
   ],
   "source": [
    "# 실전 문제 왕실의 나이트\n",
    "result = 0 \n",
    "wheretogo = [[-2, -1], [-2, 1], [-1, -2], [-1, 2], [2, -1], [2, 1], [1, -2], [1, 2]]\n",
    "\n",
    "knight = input()\n",
    "col = int(ord(knight[0]) - ord('a') + 1)\n",
    "row = int(knight[1])\n",
    "\n",
    "for togo in wheretogo:\n",
    "    coltogo = col + togo[0]\n",
    "    rowtogo = row + togo[1]\n",
    "\n",
    "    if coltogo >= 1 and coltogo <= 8 and rowtogo >=1 and rowtogo <= 8:\n",
    "        result += 1\n",
    "\n",
    "print(result)"
   ]
  },
  {
   "cell_type": "code",
   "execution_count": null,
   "metadata": {},
   "outputs": [],
   "source": [
    "# 실전 문제 게임 개발\n",
    "n, m = map(int, input().split())\n",
    "# 북 0 동 1 남 2 서 3\n",
    "x, y, direction = map(int, input().split())\n",
    "themap = []\n",
    "for i in range(n):\n",
    "    themap.append(list(map(int, input().split())))\n",
    "\n",
    "nesw = [[-1, 0], [0, 1], [1, 0], [0, -1]]\n",
    "\n",
    "def turn_left():\n",
    "    global direction\n",
    "    direction -= 1\n",
    "    if direction == -1:\n",
    "        direction = 3\n",
    "\n",
    "went = [[0] * m for i in range(n)]\n",
    "\n",
    "\n",
    "count = 1\n",
    "turn_time = 0 \n",
    "while True:\n",
    "    turn_left()\n",
    "    xtogo = x + nesw[direction[0]]\n",
    "    ytogo = y + nesw[direction[1]]\n",
    "\n",
    "    if went[xtogo][ytogo] == 0 and themap[xtogo][ytogo] == 0:\n",
    "        went[xtogo][ytogo] = 1\n",
    "        x = xtogo\n",
    "        y = ytogo\n",
    "        count += 1\n",
    "        turn_time = 0\n",
    "        continue\n",
    "    else:\n",
    "        turn_time += 1\n",
    "\n",
    "    if turn_time == 4:\n",
    "        xtogo = x - nesw[direction[0]]\n",
    "        ytogo = y - nesw[direction[1]]\n",
    "\n",
    "        if themap[xtogo][ytogo] == 0:\n",
    "            x = xtogo\n",
    "            y = ytogo\n",
    "        else:\n",
    "            break\n",
    "        turn_time = 0\n",
    "\n",
    "print(count)"
   ]
  }
 ],
 "metadata": {
  "kernelspec": {
   "display_name": "Python 3",
   "language": "python",
   "name": "python3"
  },
  "language_info": {
   "codemirror_mode": {
    "name": "ipython",
    "version": 3
   },
   "file_extension": ".py",
   "mimetype": "text/x-python",
   "name": "python",
   "nbconvert_exporter": "python",
   "pygments_lexer": "ipython3",
   "version": "3.11.4"
  },
  "orig_nbformat": 4
 },
 "nbformat": 4,
 "nbformat_minor": 2
}
