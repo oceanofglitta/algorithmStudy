{
 "cells": [
  {
   "cell_type": "code",
   "execution_count": 5,
   "metadata": {},
   "outputs": [
    {
     "name": "stdout",
     "output_type": "stream",
     "text": [
      "5 3 1 "
     ]
    }
   ],
   "source": [
    "# 실전 문제 위에서 아래로\n",
    "\n",
    "n = int(input())\n",
    "\n",
    "nums = []\n",
    "for i in range(n):\n",
    "    nums.append(int(input()))\n",
    "\n",
    "nums = sorted(nums, reverse=True)\n",
    "\n",
    "\n",
    "for num in nums:\n",
    "    print(num, end=' ')\n"
   ]
  },
  {
   "cell_type": "code",
   "execution_count": 7,
   "metadata": {},
   "outputs": [
    {
     "name": "stdout",
     "output_type": "stream",
     "text": [
      "박용욱5 박용욱1 박용욱3 박용욱4 박용욱2 "
     ]
    }
   ],
   "source": [
    "# 실전 문제 성적이 낮은 순서로 학생 출력하기\n",
    "\n",
    "n = int(input())\n",
    "students = []\n",
    "for i in range(n):\n",
    "    inputs = input().split()\n",
    "    students.append([inputs[0], int(inputs[1])])\n",
    "\n",
    "students.sort(key = lambda x: x[1])\n",
    "\n",
    "for student in students:\n",
    "    print(student[0], end = ' ')"
   ]
  },
  {
   "cell_type": "code",
   "execution_count": 8,
   "metadata": {},
   "outputs": [
    {
     "name": "stdout",
     "output_type": "stream",
     "text": [
      "26\n"
     ]
    }
   ],
   "source": [
    "# 실전 문제 두 배열의 원소 교체\n",
    "\n",
    "n, k = map(int, input().split())\n",
    "A = list(map(int, input().split()))\n",
    "B = list(map(int, input().split()))\n",
    "\n",
    "A.sort()\n",
    "B.sort()\n",
    "\n",
    "for i in range(k):\n",
    "    if A[i] < B[n-1-i]:\n",
    "        A[i], B[n-1-i] = B[n-1-i], A[i]\n",
    "    else:\n",
    "        break\n",
    "\n",
    "print(sum(A))"
   ]
  }
 ],
 "metadata": {
  "kernelspec": {
   "display_name": "Python 3",
   "language": "python",
   "name": "python3"
  },
  "language_info": {
   "codemirror_mode": {
    "name": "ipython",
    "version": 3
   },
   "file_extension": ".py",
   "mimetype": "text/x-python",
   "name": "python",
   "nbconvert_exporter": "python",
   "pygments_lexer": "ipython3",
   "version": "3.11.4"
  },
  "orig_nbformat": 4
 },
 "nbformat": 4,
 "nbformat_minor": 2
}
