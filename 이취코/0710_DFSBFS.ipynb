{
 "cells": [
  {
   "cell_type": "code",
   "execution_count": null,
   "metadata": {},
   "outputs": [],
   "source": [
    "# 실전 문제 음료수 얼려 먹기\n",
    "\n",
    "def dfs(x, y):\n",
    "    if x<=-1 or x>=n or y<=-1 or y>=m:\n",
    "        return False\n",
    "    \n",
    "    if pan[x][y] == 0:\n",
    "        pan[x][y] = 1\n",
    "        dfs(x, y-1)\n",
    "        dfs(x, y+1)\n",
    "        dfs(x-1, y)\n",
    "        dfs(x+1, y)\n",
    "        return True\n",
    "    return False\n",
    "\n",
    "n, m = map(int, input().split())\n",
    "pan = []\n",
    "for i in range(n):\n",
    "    pan.append(list(map(int, input())))\n",
    "\n",
    "result = 0 \n",
    "for i in range(n):\n",
    "    for j in range(m):\n",
    "        if dfs(i, j) == True:\n",
    "            result += 1\n",
    "\n",
    "print(result)"
   ]
  },
  {
   "cell_type": "code",
   "execution_count": 3,
   "metadata": {},
   "outputs": [
    {
     "ename": "AttributeError",
     "evalue": "module 'queue' has no attribute 'push'",
     "output_type": "error",
     "traceback": [
      "\u001b[1;31m---------------------------------------------------------------------------\u001b[0m",
      "\u001b[1;31mAttributeError\u001b[0m                            Traceback (most recent call last)",
      "Cell \u001b[1;32mIn[3], line 30\u001b[0m\n\u001b[0;32m     28\u001b[0m         \u001b[39mif\u001b[39;00m pan[xtogo][ytogo] \u001b[39m==\u001b[39m \u001b[39m1\u001b[39m:\n\u001b[0;32m     29\u001b[0m             pan[xtogo][ytogo] \u001b[39m=\u001b[39m pan[x][y] \u001b[39m+\u001b[39m \u001b[39m1\u001b[39m\n\u001b[1;32m---> 30\u001b[0m             queue\u001b[39m.\u001b[39;49mpush((xtogo, ytogo))\n\u001b[0;32m     32\u001b[0m \u001b[39mprint\u001b[39m(pan[n\u001b[39m-\u001b[39m\u001b[39m1\u001b[39m][m\u001b[39m-\u001b[39m\u001b[39m1\u001b[39m])\n",
      "\u001b[1;31mAttributeError\u001b[0m: module 'queue' has no attribute 'push'"
     ]
    }
   ],
   "source": [
    "# 실전 문제 미로 탈출\n",
    "\n",
    "from collections import deque\n",
    "\n",
    "n, m = map(int, input().split())\n",
    "pan = []\n",
    "for i in range(n):\n",
    "    pan.append(list(map(int, input())))\n",
    "\n",
    "# 상 하 좌 우\n",
    "dx = [-1, 1, 0, 0]\n",
    "dy = [0, 0, -1, 1]  \n",
    "\n",
    "dq = deque()\n",
    "dq.append((0, 0))\n",
    "while dq:\n",
    "    x, y = dq.popleft()\n",
    "    for i in range(4):\n",
    "        xtogo = x + dx[i]\n",
    "        ytogo = y + dy[i]\n",
    "\n",
    "        if xtogo<0 or ytogo<0 or xtogo>=n or ytogo>=m:\n",
    "            continue\n",
    "\n",
    "        if pan[xtogo][ytogo] == 0:\n",
    "            continue\n",
    "\n",
    "        if pan[xtogo][ytogo] == 1:\n",
    "            pan[xtogo][ytogo] = pan[x][y] + 1\n",
    "            dq.append((xtogo, ytogo))\n",
    "\n",
    "print(pan[n-1][m-1])"
   ]
  }
 ],
 "metadata": {
  "kernelspec": {
   "display_name": "Python 3",
   "language": "python",
   "name": "python3"
  },
  "language_info": {
   "codemirror_mode": {
    "name": "ipython",
    "version": 3
   },
   "file_extension": ".py",
   "mimetype": "text/x-python",
   "name": "python",
   "nbconvert_exporter": "python",
   "pygments_lexer": "ipython3",
   "version": "3.11.4"
  },
  "orig_nbformat": 4
 },
 "nbformat": 4,
 "nbformat_minor": 2
}
